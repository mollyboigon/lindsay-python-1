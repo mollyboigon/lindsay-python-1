{
 "cells": [
  {
   "cell_type": "markdown",
   "id": "5a872b7b",
   "metadata": {
    "id": "5a872b7b"
   },
   "source": [
    "# Python Review \n",
    "\n",
    "Today's goal is to review how Python can efficiently complete relevant and important data journalism needs.\n",
    "\n",
    "1. Python can do math!\n",
    "2. Organizing your numbers\n",
    "3. Making numbers more readable (using f-string literal formatting)\n",
    "4. Built-in functions (or prefabricated code)\n",
    "5. Holding data in lists\n",
    "6. Holding data in dictionaries.\n",
    "7. How is this relevant for data journalism?\n"
   ]
  },
  {
   "cell_type": "markdown",
   "id": "f7ff1285",
   "metadata": {
    "id": "f7ff1285"
   },
   "source": [
    "## Python at its most basic - doing math\n",
    "\n"
   ]
  },
  {
   "cell_type": "markdown",
   "id": "f597185b",
   "metadata": {
    "id": "f597185b"
   },
   "source": [
    "Here's some data:\n",
    "\n",
    "\n",
    "- In 2023 NYPD officers wrote 467 summonses for jaywalking.\n",
    "- Of those 154 were given to Latino residents.\n",
    "- Black residents received 276.\n",
    "\n",
    "\n",
    "Do the following:\n",
    "\n",
    "1. Place each of these statistics into variables.\n",
    "\n",
    "For each calculation, write a dynamic sentence that prints out (rounded to zero decimal places):\n",
    "\n",
    "2. ```Latino residents received xx% of all jaywalking citations in 2023```\n",
    "\n",
    "\n",
    "3. ```Black residents received xx% of all jaywalking citations in 2023```\n",
    "\n",
    "\n",
    "4. ```Jaywalking citations given to Black and Latino residents totalled xx% of all the citations given to NYC residents.```"
   ]
  },
  {
   "cell_type": "code",
   "execution_count": null,
   "id": "txG-FDGjycIn",
   "metadata": {
    "id": "txG-FDGjycIn"
   },
   "outputs": [],
   "source": [
    "## Create coding cells as needed"
   ]
  },
  {
   "cell_type": "code",
   "execution_count": 1,
   "id": "dd1e6632-c3b0-4c21-9fd6-c869324290ab",
   "metadata": {},
   "outputs": [
    {
     "name": "stdout",
     "output_type": "stream",
     "text": [
      "hello world\n"
     ]
    }
   ],
   "source": [
    "print(\"hello world\")"
   ]
  },
  {
   "cell_type": "code",
   "execution_count": 7,
   "id": "02f7bd41-bfc7-4755-bb3c-c70eb10fb102",
   "metadata": {},
   "outputs": [
    {
     "name": "stdout",
     "output_type": "stream",
     "text": [
      "Lorem ipsum \n"
     ]
    }
   ],
   "source": [
    "print(\"Lorem ipsum \")"
   ]
  },
  {
   "cell_type": "code",
   "execution_count": 8,
   "id": "8b819b6c-8b21-4ee2-b0b9-7e1d8fb070e0",
   "metadata": {},
   "outputs": [],
   "source": [
    "copy = \"Lorem ipsum\""
   ]
  },
  {
   "cell_type": "code",
   "execution_count": 9,
   "id": "93dc9cb7-3802-448b-9cbb-18b91a78be23",
   "metadata": {},
   "outputs": [
    {
     "name": "stdout",
     "output_type": "stream",
     "text": [
      "Lorem ipsum\n"
     ]
    }
   ],
   "source": [
    "print(copy)"
   ]
  },
  {
   "cell_type": "code",
   "execution_count": 10,
   "id": "642a09a9-6f4f-483a-92bf-24341a5e26bc",
   "metadata": {},
   "outputs": [],
   "source": [
    "###In 2023 NYPD officers wrote 467 summonses for jaywalking.\n",
    "##Of those 154 were given to Latino residents.\n",
    "#Black residents received 276."
   ]
  },
  {
   "cell_type": "code",
   "execution_count": 11,
   "id": "2b2fe057-f94c-42ca-9eb3-05d9d3c1c908",
   "metadata": {},
   "outputs": [],
   "source": [
    "ny_summonses = 467\n",
    "black_summonses = 276\n",
    "latino_summonses = 154"
   ]
  },
  {
   "cell_type": "code",
   "execution_count": 12,
   "id": "d7d2330b-4ea8-4df2-9e68-a716607a00a4",
   "metadata": {},
   "outputs": [
    {
     "data": {
      "text/plain": [
       "467"
      ]
     },
     "execution_count": 12,
     "metadata": {},
     "output_type": "execute_result"
    }
   ],
   "source": [
    "ny_summonses"
   ]
  },
  {
   "cell_type": "code",
   "execution_count": 13,
   "id": "92a2af0a-df2b-46da-8a35-6ec3ef3b5828",
   "metadata": {},
   "outputs": [],
   "source": [
    "#Latino residents received xx% of all jaywalking citations in 2023\n",
    "\n",
    "#Black residents received xx% of all jaywalking citations in 2023\n",
    "\n",
    "#Jaywalking citations given to Black and Latino residents totalled xx% of all the citations given to NYC residents."
   ]
  },
  {
   "cell_type": "code",
   "execution_count": 16,
   "id": "7029c82e-492e-42e5-a239-15409b166839",
   "metadata": {},
   "outputs": [],
   "source": [
    "latino_jaywalking_percent = latino_summonses / ny_summonses * 100"
   ]
  },
  {
   "cell_type": "code",
   "execution_count": 17,
   "id": "7c25e032-0499-4120-b2d8-337986130120",
   "metadata": {},
   "outputs": [
    {
     "data": {
      "text/plain": [
       "32.97644539614561"
      ]
     },
     "execution_count": 17,
     "metadata": {},
     "output_type": "execute_result"
    }
   ],
   "source": [
    "latino_jaywalking_percent"
   ]
  },
  {
   "cell_type": "code",
   "execution_count": 18,
   "id": "c7372a65-e3fd-4585-bd24-c9f67c2f0ff2",
   "metadata": {},
   "outputs": [
    {
     "name": "stdout",
     "output_type": "stream",
     "text": [
      "Latino residents recieved 33 percent of all jaywalking citations in 2023.\n"
     ]
    }
   ],
   "source": [
    "print(f\"Latino residents recieved {latino_jaywalking_percent:.0F} percent of all jaywalking citations in 2023.\")"
   ]
  },
  {
   "cell_type": "code",
   "execution_count": 19,
   "id": "18247c58-65df-433d-ab2a-370ca4d95b95",
   "metadata": {},
   "outputs": [
    {
     "name": "stdout",
     "output_type": "stream",
     "text": [
      "Latino residents recieved 33 percent of all jaywalking citations.\n"
     ]
    }
   ],
   "source": [
    "print(f\"Latino residents recieved {latino_summonses / ny_summonses * 100:.0F} percent of all jaywalking citations.\")"
   ]
  },
  {
   "cell_type": "markdown",
   "id": "95742489",
   "metadata": {
    "id": "95742489"
   },
   "source": [
    "## Organizing your data with variables"
   ]
  },
  {
   "cell_type": "markdown",
   "id": "2782cc72",
   "metadata": {},
   "source": [
    "## F-string Practice"
   ]
  },
  {
   "cell_type": "code",
   "execution_count": null,
   "id": "f69d4407",
   "metadata": {
    "id": "f69d4407"
   },
   "outputs": [],
   "source": [
    "## run this cell\n",
    "## let's try on this big number\n",
    "big_number = 2_109_346_257.103618\n"
   ]
  },
  {
   "cell_type": "code",
   "execution_count": null,
   "id": "kt7fcZa3grte",
   "metadata": {
    "id": "kt7fcZa3grte"
   },
   "outputs": [],
   "source": [
    "## print the variable with a preceeding dollar sign\n"
   ]
  },
  {
   "cell_type": "code",
   "execution_count": null,
   "id": "F3Mif4eIhcI0",
   "metadata": {
    "id": "F3Mif4eIhcI0"
   },
   "outputs": [],
   "source": [
    "## print the variable now adding thousands separators"
   ]
  },
  {
   "cell_type": "code",
   "execution_count": null,
   "id": "01e83d8b",
   "metadata": {
    "id": "01e83d8b"
   },
   "outputs": [],
   "source": [
    "## now print rounding to 3 decimal places.\n"
   ]
  },
  {
   "cell_type": "code",
   "execution_count": null,
   "id": "ubHQZ1QfiAYr",
   "metadata": {
    "id": "ubHQZ1QfiAYr"
   },
   "outputs": [],
   "source": [
    "## call big_number again"
   ]
  },
  {
   "cell_type": "markdown",
   "id": "QvIYnW8qhv81",
   "metadata": {
    "id": "QvIYnW8qhv81"
   },
   "source": [
    "Note: None of these changes are made to the actual variable. They are temporary as we print with f-strings."
   ]
  },
  {
   "cell_type": "markdown",
   "id": "78470a43",
   "metadata": {
    "id": "78470a43"
   },
   "source": [
    "## Built-in Functions\n"
   ]
  },
  {
   "cell_type": "markdown",
   "id": "3765042b",
   "metadata": {
    "id": "3765042b"
   },
   "source": [
    "You've encountered a built-in function in ```print()```\n",
    "\n",
    "In simplest terms (good for now), a ```built-in function``` comes as standard part of Python and carries out one or more steps on something we aim it at. What we target for the function goes inside the parenthesis. You've already used a built-in function:\n",
    "\n",
    "```print(\"output something\")```\n",
    "\n",
    "I will introduce others through the course as need. There are <a href=\"https://docs.python.org/3/library/functions.html\">dozens of built-in functions</a>, but I will be introducing the most useful ones little by little.\n"
   ]
  },
  {
   "cell_type": "markdown",
   "id": "LgIFl8WEm940",
   "metadata": {
    "id": "LgIFl8WEm940"
   },
   "source": [
    "## Lists\n"
   ]
  },
  {
   "cell_type": "markdown",
   "id": "c1125494",
   "metadata": {},
   "source": [
    "Place the following values into a list:\n",
    "    \n",
    "- Nigeria\n",
    "- Ethiopia\n",
    "- Egypt\n",
    "- DR Congo\n",
    "- Tanzania\n",
    "- South Africa"
   ]
  },
  {
   "cell_type": "code",
   "execution_count": null,
   "id": "42a021d5",
   "metadata": {},
   "outputs": [],
   "source": [
    "## create list here"
   ]
  },
  {
   "cell_type": "code",
   "execution_count": null,
   "id": "a205c8fd",
   "metadata": {
    "id": "a205c8fd"
   },
   "outputs": [],
   "source": [
    "## call your list\n"
   ]
  },
  {
   "cell_type": "code",
   "execution_count": null,
   "id": "874b7cd9",
   "metadata": {},
   "outputs": [],
   "source": [
    "## print your list"
   ]
  },
  {
   "cell_type": "code",
   "execution_count": null,
   "id": "f57157e3",
   "metadata": {
    "id": "f57157e3"
   },
   "outputs": [],
   "source": [
    "## check the type\n"
   ]
  },
  {
   "cell_type": "markdown",
   "id": "kY_REfyGQTDR",
   "metadata": {
    "id": "kY_REfyGQTDR"
   },
   "source": [
    "### Okay...why do I need to know know about lists?\n"
   ]
  },
  {
   "cell_type": "code",
   "execution_count": null,
   "id": "PXPC_2cHQYF2",
   "metadata": {
    "id": "PXPC_2cHQYF2"
   },
   "outputs": [],
   "source": [
    "## recall our African countries list\n"
   ]
  },
  {
   "cell_type": "markdown",
   "id": "Y6JE6sMxnElG",
   "metadata": {
    "id": "Y6JE6sMxnElG"
   },
   "source": [
    "## Dictionaries\n"
   ]
  },
  {
   "cell_type": "markdown",
   "id": "9bf6238d",
   "metadata": {
    "id": "9bf6238d",
    "slideshow": {
     "slide_type": "subslide"
    }
   },
   "source": [
    "Build a dictionary called car_1 with the following info:\n",
    "\n",
    "- brand: Honda\n",
    "- type: SUV\n",
    "- model: CRV\n",
    "- trim: Leather\n",
    "- cost: 40_000\n",
    "- on_sale: True\n",
    "- vin: 2973"
   ]
  },
  {
   "cell_type": "code",
   "execution_count": null,
   "id": "4a3efe45",
   "metadata": {
    "id": "4a3efe45"
   },
   "outputs": [],
   "source": [
    "## build the car_1 dictionary\n",
    "\n",
    "\n"
   ]
  },
  {
   "cell_type": "code",
   "execution_count": null,
   "id": "d07255da",
   "metadata": {
    "id": "d07255da"
   },
   "outputs": [],
   "source": [
    "## call car_1\n"
   ]
  },
  {
   "cell_type": "code",
   "execution_count": null,
   "id": "1378aa3e",
   "metadata": {
    "id": "1378aa3e"
   },
   "outputs": [],
   "source": [
    "## what car_1's datatype\n",
    "\n"
   ]
  },
  {
   "cell_type": "markdown",
   "id": "bad110a8",
   "metadata": {
    "id": "bad110a8"
   },
   "source": [
    "Build me a dictionary called car_2 with the following data points.\n",
    "\n",
    "Note: In this case the vin is first. Create it in this exact order\n",
    "\n",
    "- vin: 8303\n",
    "- brand: Honda\n",
    "- type: Sedan\n",
    "- model: CRV\n",
    "- trim: Cloth\n",
    "- cost: 35_000\n",
    "- on sale: no\n"
   ]
  },
  {
   "cell_type": "code",
   "execution_count": null,
   "id": "5bfb98f1",
   "metadata": {
    "id": "5bfb98f1"
   },
   "outputs": [],
   "source": [
    "## build car_2\n"
   ]
  },
  {
   "cell_type": "code",
   "execution_count": null,
   "id": "88fbdecf",
   "metadata": {
    "id": "88fbdecf"
   },
   "outputs": [],
   "source": [
    "## call car_2\n"
   ]
  },
  {
   "cell_type": "markdown",
   "id": "b2cae552",
   "metadata": {
    "id": "b2cae552"
   },
   "source": [
    "### Create a list with these two dictionaries"
   ]
  },
  {
   "cell_type": "code",
   "execution_count": null,
   "id": "969fb2b4",
   "metadata": {
    "id": "969fb2b4"
   },
   "outputs": [],
   "source": [
    "## create a list called honda_cars here\n"
   ]
  },
  {
   "cell_type": "code",
   "execution_count": null,
   "id": "1e6197b3",
   "metadata": {
    "id": "1e6197b3"
   },
   "outputs": [],
   "source": [
    "## call this list\n"
   ]
  },
  {
   "cell_type": "markdown",
   "id": "F6b6yYs5oMG-",
   "metadata": {
    "id": "F6b6yYs5oMG-"
   },
   "source": [
    "### Okay, so what?\n",
    "\n",
    "Why do I need to know about dictionaries?"
   ]
  },
  {
   "cell_type": "markdown",
   "id": "ef7f8e32",
   "metadata": {
    "id": "ef7f8e32"
   },
   "source": [
    "### What are relevant journalistic uses for what we covered today?\n"
   ]
  },
  {
   "cell_type": "markdown",
   "id": "G7YQT0gOPJ8c",
   "metadata": {
    "id": "G7YQT0gOPJ8c"
   },
   "source": [
    "\n",
    "1. Making numbers more readable (using f-string literal formatting)\n",
    "2. Organizing data points after acquiring or calculating them (creating lists, dictionaries and lists of dictionaries)\n",
    "3. Knowing how many such data points we have.\n",
    "5. Understanding the connections between spreadsheets and Python data types"
   ]
  }
 ],
 "metadata": {
  "celltoolbar": "Slideshow",
  "colab": {
   "collapsed_sections": [
    "5a872b7b",
    "f7ff1285",
    "95742489",
    "42b2be9b",
    "jkK1BVoo0kWk",
    "56a57c38",
    "70a3ef57",
    "78470a43",
    "LgIFl8WEm940",
    "kY_REfyGQTDR",
    "GvESurTfmQFH",
    "Y6JE6sMxnElG",
    "b2cae552",
    "F6b6yYs5oMG-",
    "6eb63369",
    "ef7f8e32"
   ],
   "provenance": []
  },
  "kernelspec": {
   "display_name": "Python 3 (ipykernel)",
   "language": "python",
   "name": "python3"
  },
  "language_info": {
   "codemirror_mode": {
    "name": "ipython",
    "version": 3
   },
   "file_extension": ".py",
   "mimetype": "text/x-python",
   "name": "python",
   "nbconvert_exporter": "python",
   "pygments_lexer": "ipython3",
   "version": "3.11.7"
  }
 },
 "nbformat": 4,
 "nbformat_minor": 5
}
